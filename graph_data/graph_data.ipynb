{
 "cells": [
  {
   "cell_type": "code",
   "execution_count": 2,
   "id": "260e062b",
   "metadata": {},
   "outputs": [],
   "source": [
    "import pandas as pd\n",
    "import itertools\n",
    "import networkx as nx\n",
    "import matplotlib.pyplot as plt\n",
    "import argparse\n",
    "import os \n",
    "from tqdm import tqdm\n",
    "import json\n"
   ]
  },
  {
   "cell_type": "code",
   "execution_count": 29,
   "id": "36045088",
   "metadata": {},
   "outputs": [],
   "source": [
    "class GraphData:\n",
    "    \n",
    "    def __init__(self, \n",
    "                 file_path: str, \n",
    "                 counts_threshold: int, \n",
    "                 output_path: str = \"./graph_data\"):\n",
    "        \n",
    "        self.file_path = file_path \n",
    "        self.output_path = output_path\n",
    "        self.counts_threshold = counts_threshold\n",
    "        \n",
    "        try:\n",
    "            os.mkdir(self.output_path)\n",
    "        except OSError as error:\n",
    "            raise error\n",
    "\n",
    "        self.feature_df = self.genes_df()\n",
    "        \n",
    "        self.get_edges()\n",
    "\n",
    "        \n",
    "    def genes_df(self):\n",
    "        \n",
    "        df = pd.read_json('/home/angelosmath/MSc/thesis_genes/bioc_august/test_df_200.json')\n",
    "        \n",
    "        # remove papers that refer only 1 gene\n",
    "        mask_single_gene = df['Genes'].apply(lambda x: len(x) == 1)\n",
    "        df_filtered = df[~mask_single_gene]\n",
    "\n",
    "        print(\"found {} papers that contain pairs of genes\".format(df_filtered.shape[0]))\n",
    "        \n",
    "        return df_filtered\n",
    "\n",
    "    def get_edges(self):\n",
    "\n",
    "        self.pair_counts = {}\n",
    "\n",
    "        for _, row in tqdm(self.feature_df.iterrows()):\n",
    "            \n",
    "            feature = row['Genes']\n",
    "            pairs = list(itertools.combinations(feature, 2))\n",
    "\n",
    "            for pair in pairs:\n",
    "                pair = tuple(sorted(pair))  # Sort to ensure consistency\n",
    "                if pair in self.pair_counts:\n",
    "                    self.pair_counts[pair] += 1\n",
    "                else:\n",
    "                    self.pair_counts[pair] = 1\n",
    "        return self.pair_counts\n",
    "        \n",
    "    def export(self):\n",
    "        \n",
    "        pair_counts_str_keys = {str(pair): count for pair, count in self.pair_counts.items()}\n",
    "        \n",
    "        with open(f'{self.output_path}/pairs_dictionary.json', 'w') as json_file:\n",
    "            json.dump(pair_counts_str_keys, json_file)\n",
    "\n",
    "        df = pd.DataFrame(list(self.pair_counts.items()), columns=['pair', 'count'])\n",
    "        df = df.drop_duplicates(subset='pair')\n",
    "        df[['from', 'to']] = pd.DataFrame(df['pair'].tolist(), index=df.index)\n",
    "        df.drop(columns=['pair'], inplace=True)\n",
    "        df['rel'] = 'gene-->gene'\n",
    "        df = df[['from', 'to', 'rel', 'count']]\n",
    "\n",
    "        # Download protein-coding gene data\n",
    "        protein_coding_url = \"https://ftp.ebi.ac.uk/pub/databases/genenames/hgnc/tsv/locus_groups/protein-coding_gene.txt\"\n",
    "        protein_coding_file = \"protein-coding_gene.txt\"\n",
    "        os.system(f\"wget {protein_coding_url} -O {protein_coding_file}\") \n",
    "        df_protein_coding = pd.read_csv('protein-coding_gene.txt', delimiter='\\t', header=0, low_memory=False)\n",
    "\n",
    "        \n",
    "        # Filter out rows with 'from' and 'to' genes not in df_protein_coding\n",
    "        valid_genes = set(df_protein_coding['entrez_id'])\n",
    "        df = df[df['from'].isin(valid_genes)]\n",
    "        df = df[df['to'].isin(valid_genes)]\n",
    "                \n",
    "        #drop the rows that count is lower or equal to the threshold \n",
    "        df = df[df['count'] > self.counts_threshold]\n",
    "\n",
    "        df.to_json(f'{self.output_path}/graph_df.json', orient='records', lines=False) \n",
    "        \n",
    "        print(f'after the threshold aplied and the genes checked if they involved in protein coding we have {df.shape[0]} pairs')\n",
    "        print('all files export successfully')"
   ]
  },
  {
   "cell_type": "code",
   "execution_count": null,
   "id": "619b0f92",
   "metadata": {},
   "outputs": [],
   "source": [
    "#!wget https://ftp.ebi.ac.uk/pub/databases/genenames/hgnc/tsv/locus_groups/protein-coding_gene.txt"
   ]
  },
  {
   "cell_type": "code",
   "execution_count": 31,
   "id": "f165820c",
   "metadata": {
    "scrolled": true
   },
   "outputs": [
    {
     "name": "stdout",
     "output_type": "stream",
     "text": [
      "found 14732 papers that contain pairs of genes\n"
     ]
    },
    {
     "name": "stderr",
     "output_type": "stream",
     "text": [
      "14732it [00:02, 5463.18it/s]\n"
     ]
    }
   ],
   "source": [
    "a = GraphData(file_path = '/home/angelosmath/MSc/thesis_genes/bioc_august/test_df_200.json' , \n",
    "              counts_threshold = 2, \n",
    "              output_path = \"./graph_data_test\")"
   ]
  },
  {
   "cell_type": "code",
   "execution_count": 32,
   "id": "5e7abf76",
   "metadata": {},
   "outputs": [
    {
     "name": "stderr",
     "output_type": "stream",
     "text": [
      "--2023-08-26 01:01:39--  https://ftp.ebi.ac.uk/pub/databases/genenames/hgnc/tsv/locus_groups/protein-coding_gene.txt\n",
      "Resolving ftp.ebi.ac.uk (ftp.ebi.ac.uk)... 193.62.193.138\n",
      "Connecting to ftp.ebi.ac.uk (ftp.ebi.ac.uk)|193.62.193.138|:443... connected.\n",
      "HTTP request sent, awaiting response... 200 OK\n",
      "Length: 9428809 (9,0M) [text/plain]\n",
      "Saving to: ‘protein-coding_gene.txt’\n",
      "\n",
      "     0K .......... .......... .......... .......... ..........  0%  158K 58s\n",
      "    50K .......... .......... .......... .......... ..........  1%  321K 43s\n",
      "   100K .......... .......... .......... .......... ..........  1%  323K 38s\n",
      "   150K .......... .......... .......... .......... ..........  2%  409K 34s\n",
      "   200K .......... .......... .......... .......... ..........  2%  452K 31s\n",
      "   250K .......... .......... .......... .......... ..........  3%  383K 29s\n",
      "   300K .......... .......... .......... .......... ..........  3%  256K 30s\n",
      "   350K .......... .......... .......... .......... ..........  4%  304K 30s\n",
      "   400K .......... .......... .......... .......... ..........  4%  377K 29s\n",
      "   450K .......... .......... .......... .......... ..........  5%  325K 29s\n",
      "   500K .......... .......... .......... .......... ..........  5%  197K 30s\n",
      "   550K .......... .......... .......... .......... ..........  6%  312K 29s\n",
      "   600K .......... .......... .......... .......... ..........  7%  407K 29s\n",
      "   650K .......... .......... .......... .......... ..........  7% 1,18M 27s\n",
      "   700K .......... .......... .......... .......... ..........  8%  618K 26s\n",
      "   750K .......... .......... .......... .......... ..........  8%  151K 28s\n",
      "   800K .......... .......... .......... .......... ..........  9%  365K 27s\n",
      "   850K .......... .......... .......... .......... ..........  9% 10,7M 26s\n",
      "   900K .......... .......... .......... .......... .......... 10%  171K 27s\n",
      "   950K .......... .......... .......... .......... .......... 10%  250K 27s\n",
      "  1000K .......... .......... .......... .......... .......... 11%  462K 26s\n",
      "  1050K .......... .......... .......... .......... .......... 11%  466K 26s\n",
      "  1100K .......... .......... .......... .......... .......... 12% 1,09M 25s\n",
      "  1150K .......... .......... .......... .......... .......... 13%  375K 24s\n",
      "  1200K .......... .......... .......... .......... .......... 13%  218K 25s\n",
      "  1250K .......... .......... .......... .......... .......... 14% 30,8K 34s\n",
      "  1300K .......... .......... .......... .......... .......... 14%  190K 34s\n",
      "  1350K .......... .......... .......... .......... .......... 15%  264K 33s\n",
      "  1400K .......... .......... .......... .......... .......... 15%  265K 33s\n",
      "  1450K .......... .......... .......... .......... .......... 16%  274K 33s\n",
      "  1500K .......... .......... .......... .......... .......... 16% 12,3M 31s\n",
      "  1550K .......... .......... .......... .......... .......... 17%  449K 31s\n",
      "  1600K .......... .......... .......... .......... .......... 17%  113K 32s\n",
      "  1650K .......... .......... .......... .......... .......... 18%  263K 31s\n",
      "  1700K .......... .......... .......... .......... .......... 19% 45,1K 35s\n",
      "  1750K .......... .......... .......... .......... .......... 19% 44,3K 38s\n",
      "  1800K .......... .......... .......... .......... .......... 20%  700K 37s\n",
      "  1850K .......... .......... .......... .......... .......... 20%  525K 36s\n",
      "  1900K .......... .......... .......... .......... .......... 21%  379K 36s\n",
      "  1950K .......... .......... .......... .......... .......... 21%  360K 35s\n",
      "  2000K .......... .......... .......... .......... .......... 22%  557K 34s\n",
      "  2050K .......... .......... .......... .......... .......... 22%  121K 35s\n",
      "  2100K .......... .......... .......... .......... .......... 23%  178K 35s\n",
      "  2150K .......... .......... .......... .......... .......... 23%  208K 34s\n",
      "  2200K .......... .......... .......... .......... .......... 24%  368K 34s\n",
      "  2250K .......... .......... .......... .......... .......... 24% 1,34M 33s\n",
      "  2300K .......... .......... .......... .......... .......... 25%  190K 33s\n",
      "  2350K .......... .......... .......... .......... .......... 26%  353K 32s\n",
      "  2400K .......... .......... .......... .......... .......... 26%  317K 32s\n",
      "  2450K .......... .......... .......... .......... .......... 27%  829K 31s\n",
      "  2500K .......... .......... .......... .......... .......... 27%  498K 30s\n",
      "  2550K .......... .......... .......... .......... .......... 28%  416K 30s\n",
      "  2600K .......... .......... .......... .......... .......... 28% 25,9K 34s\n",
      "  2650K .......... .......... .......... .......... .......... 29%  122K 34s\n",
      "  2700K .......... .......... .......... .......... .......... 29%  262K 34s\n",
      "  2750K .......... .......... .......... .......... .......... 30%  266K 33s\n",
      "  2800K .......... .......... .......... .......... .......... 30%  172K 33s\n",
      "  2850K .......... .......... .......... .......... .......... 31%  199K 33s\n",
      "  2900K .......... .......... .......... .......... .......... 32%  168K 33s\n",
      "  2950K .......... .......... .......... .......... .......... 32%  199K 32s\n",
      "  3000K .......... .......... .......... .......... .......... 33%  258K 32s\n",
      "  3050K .......... .......... .......... .......... .......... 33%  416K 31s\n",
      "  3100K .......... .......... .......... .......... .......... 34%  315K 31s\n",
      "  3150K .......... .......... .......... .......... .......... 34% 11,7M 30s\n",
      "  3200K .......... .......... .......... .......... .......... 35%  123K 30s\n",
      "  3250K .......... .......... .......... .......... .......... 35% 1,79M 30s\n",
      "  3300K .......... .......... .......... .......... .......... 36%  133K 30s\n",
      "  3350K .......... .......... .......... .......... .......... 36% 77,4K 30s\n",
      "  3400K .......... .......... .......... .......... .......... 37%  353K 29s\n",
      "  3450K .......... .......... .......... .......... .......... 38%  142K 29s\n",
      "  3500K .......... .......... .......... .......... .......... 38%  245K 29s\n",
      "  3550K .......... .......... .......... .......... .......... 39%  209K 29s\n",
      "  3600K .......... .......... .......... .......... .......... 39%  111K 29s\n",
      "  3650K .......... .......... .......... .......... .......... 40% 84,8K 29s\n",
      "  3700K .......... .......... .......... .......... .......... 40%  104K 29s\n",
      "  3750K .......... .......... .......... .......... .......... 41%  173K 29s\n",
      "  3800K .......... .......... .......... .......... .......... 41%  244K 29s\n",
      "  3850K .......... .......... .......... .......... .......... 42%  237K 28s\n",
      "  3900K .......... .......... .......... .......... .......... 42%  205K 28s\n",
      "  3950K .......... .......... .......... .......... .......... 43%  146K 28s\n",
      "  4000K .......... .......... .......... .......... .......... 43%  334K 27s\n",
      "  4050K .......... .......... .......... .......... .......... 44%  394K 27s\n",
      "  4100K .......... .......... .......... .......... .......... 45%  239K 27s\n",
      "  4150K .......... .......... .......... .......... .......... 45%  217K 26s\n",
      "  4200K .......... .......... .......... .......... .......... 46%  119K 26s\n",
      "  4250K .......... .......... .......... .......... .......... 46%  209K 26s\n",
      "  4300K .......... .......... .......... .......... .......... 47%  264K 26s\n",
      "  4350K .......... .......... .......... .......... .......... 47%  151K 25s\n",
      "  4400K .......... .......... .......... .......... .......... 48%  220K 25s\n",
      "  4450K .......... .......... .......... .......... .......... 48%  171K 25s\n",
      "  4500K .......... .......... .......... .......... .......... 49%  209K 25s\n",
      "  4550K .......... .......... .......... .......... .......... 49%  620K 24s\n",
      "  4600K .......... .......... .......... .......... .......... 50%  189K 24s\n",
      "  4650K .......... .......... .......... .......... .......... 51%  384K 23s\n",
      "  4700K .......... .......... .......... .......... .......... 51%  300K 23s\n",
      "  4750K .......... .......... .......... .......... .......... 52%  123K 23s\n",
      "  4800K .......... .......... .......... .......... .......... 52%  251K 23s\n",
      "  4850K .......... .......... .......... .......... .......... 53%  169K 22s\n",
      "  4900K .......... .......... .......... .......... .......... 53% 53,6K 23s\n",
      "  4950K .......... .......... .......... .......... .......... 54%  253K 22s\n",
      "  5000K .......... .......... .......... .......... .......... 54% 21,7K 24s\n",
      "  5050K .......... .......... .......... .......... .......... 55% 77,8K 24s\n",
      "  5100K .......... .......... .......... .......... .......... 55% 99,3K 24s\n",
      "  5150K .......... .......... .......... .......... .......... 56%  123K 23s\n",
      "  5200K .......... .......... .......... .......... .......... 57%  170K 23s\n",
      "  5250K .......... .......... .......... .......... .......... 57%  178K 23s\n",
      "  5300K .......... .......... .......... .......... .......... 58%  176K 23s\n",
      "  5350K .......... .......... .......... .......... .......... 58%  122K 22s\n",
      "  5400K .......... .......... .......... .......... .......... 59%  395K 22s\n",
      "  5450K .......... .......... .......... .......... .......... 59%  103K 22s\n",
      "  5500K .......... .......... .......... .......... .......... 60%  293K 21s\n",
      "  5550K .......... .......... .......... .......... .......... 60%  490K 21s\n",
      "  5600K .......... .......... .......... .......... .......... 61%  109K 21s\n",
      "  5650K .......... .......... .......... .......... .......... 61% 35,3K 21s\n",
      "  5700K .......... .......... .......... .......... .......... 62%  161K 21s\n",
      "  5750K .......... .......... .......... .......... .......... 62% 59,8K 21s\n",
      "  5800K .......... .......... .......... .......... .......... 63%  435K 21s\n",
      "  5850K .......... .......... .......... .......... .......... 64%  133K 20s\n",
      "  5900K .......... .......... .......... .......... .......... 64%  146K 20s\n",
      "  5950K .......... .......... .......... .......... .......... 65%  247K 20s\n",
      "  6000K .......... .......... .......... .......... .......... 65%  279K 19s\n",
      "  6050K .......... .......... .......... .......... .......... 66%  476K 19s\n",
      "  6100K .......... .......... .......... .......... .......... 66%  205K 19s\n",
      "  6150K .......... .......... .......... .......... .......... 67%  309K 18s\n",
      "  6200K .......... .......... .......... .......... .......... 67%  187K 18s\n",
      "  6250K .......... .......... .......... .......... .......... 68%  333K 17s\n",
      "  6300K .......... .......... .......... .......... .......... 68%  356K 17s\n",
      "  6350K .......... .......... .......... .......... .......... 69%  164K 17s\n",
      "  6400K .......... .......... .......... .......... .......... 70%  271K 16s\n",
      "  6450K .......... .......... .......... .......... .......... 70%  385K 16s\n",
      "  6500K .......... .......... .......... .......... .......... 71%  298K 16s\n",
      "  6550K .......... .......... .......... .......... .......... 71%  102K 15s\n",
      "  6600K .......... .......... .......... .......... .......... 72%  263K 15s\n",
      "  6650K .......... .......... .......... .......... .......... 72%  268K 15s\n",
      "  6700K .......... .......... .......... .......... .......... 73%  363K 14s\n",
      "  6750K .......... .......... .......... .......... .......... 73%  338K 14s\n",
      "  6800K .......... .......... .......... .......... .......... 74%  431K 14s\n",
      "  6850K .......... .......... .......... .......... .......... 74%  146K 13s\n",
      "  6900K .......... .......... .......... .......... .......... 75%  278K 13s\n",
      "  6950K .......... .......... .......... .......... .......... 76%  294K 13s\n",
      "  7000K .......... .......... .......... .......... .......... 76% 10,2K 14s\n",
      "  7050K .......... .......... .......... .......... .......... 77%  529K 14s\n",
      "  7100K .......... .......... .......... .......... .......... 77%  198K 13s\n",
      "  7150K .......... .......... .......... .......... .......... 78%  360K 13s\n",
      "  7200K .......... .......... .......... .......... .......... 78%  156K 13s\n",
      "  7250K .......... .......... .......... .......... .......... 79%  391K 12s\n",
      "  7300K .......... .......... .......... .......... .......... 79%  445K 12s\n",
      "  7350K .......... .......... .......... .......... .......... 80%  142K 11s\n",
      "  7400K .......... .......... .......... .......... .......... 80%  293K 11s\n",
      "  7450K .......... .......... .......... .......... .......... 81%  358K 11s\n",
      "  7500K .......... .......... .......... .......... .......... 81%  307K 10s\n",
      "  7550K .......... .......... .......... .......... .......... 82%  247K 10s\n",
      "  7600K .......... .......... .......... .......... .......... 83%  555K 10s\n",
      "  7650K .......... .......... .......... .......... .......... 83%  527K 9s\n",
      "  7700K .......... .......... .......... .......... .......... 84%  297K 9s\n",
      "  7750K .......... .......... .......... .......... .......... 84%  331K 9s\n",
      "  7800K .......... .......... .......... .......... .......... 85%  665K 8s\n",
      "  7850K .......... .......... .......... .......... .......... 85%  413K 8s\n",
      "  7900K .......... .......... .......... .......... .......... 86%  348K 8s\n",
      "  7950K .......... .......... .......... .......... .......... 86% 1,57M 7s\n",
      "  8000K .......... .......... .......... .......... .......... 87%  407K 7s\n",
      "  8050K .......... .......... .......... .......... .......... 87%  262K 7s\n",
      "  8100K .......... .......... .......... .......... .......... 88%  527K 6s\n",
      "  8150K .......... .......... .......... .......... .......... 89%  732K 6s\n",
      "  8200K .......... .......... .......... .......... .......... 89%  467K 6s\n",
      "  8250K .......... .......... .......... .......... .......... 90%  206K 5s\n",
      "  8300K .......... .......... .......... .......... .......... 90%  274K 5s\n",
      "  8350K .......... .......... .......... .......... .......... 91%  340K 5s\n",
      "  8400K .......... .......... .......... .......... .......... 91% 7,09M 4s\n",
      "  8450K .......... .......... .......... .......... .......... 92%  279K 4s\n",
      "  8500K .......... .......... .......... .......... .......... 92%  387K 4s\n",
      "  8550K .......... .......... .......... .......... .......... 93%  320K 4s\n",
      "  8600K .......... .......... .......... .......... .......... 93%  332K 3s\n",
      "  8650K .......... .......... .......... .......... .......... 94% 12,1M 3s\n",
      "  8700K .......... .......... .......... .......... .......... 95%  406K 3s\n",
      "  8750K .......... .......... .......... .......... .......... 95%  530K 2s\n",
      "  8800K .......... .......... .......... .......... .......... 96%  497K 2s\n",
      "  8850K .......... .......... .......... .......... .......... 96%  291K 2s\n",
      "  8900K .......... .......... .......... .......... .......... 97%  647K 1s\n",
      "  8950K .......... .......... .......... .......... .......... 97%  667K 1s\n",
      "  9000K .......... .......... .......... .......... .......... 98%  600K 1s\n",
      "  9050K .......... .......... .......... .......... .......... 98%  598K 1s\n",
      "  9100K .......... .......... .......... .......... .......... 99% 39,2K 0s\n",
      "  9150K .......... .......... .......... .......... .......... 99% 10,8K 0s\n",
      "  9200K .......                                               100% 90,9M=57s\n",
      "\n",
      "2023-08-26 01:02:37 (161 KB/s) - ‘protein-coding_gene.txt’ saved [9428809/9428809]\n",
      "\n"
     ]
    },
    {
     "name": "stdout",
     "output_type": "stream",
     "text": [
      "after the threshold aplied and the genes checked if they involved in protein coding we have 39318 pairs\n",
      "all files export successfully\n"
     ]
    }
   ],
   "source": [
    "a.export()"
   ]
  },
  {
   "cell_type": "code",
   "execution_count": null,
   "id": "68c0ef46",
   "metadata": {},
   "outputs": [],
   "source": []
  },
  {
   "cell_type": "code",
   "execution_count": 3,
   "id": "469a56b7",
   "metadata": {},
   "outputs": [],
   "source": [
    "df = pd.read_json('/home/angelosmath/MSc/thesis_genes/graph_data/graph_data_test/graph_df.json')"
   ]
  },
  {
   "cell_type": "code",
   "execution_count": 4,
   "id": "5ca61607",
   "metadata": {},
   "outputs": [
    {
     "data": {
      "text/plain": [
       "(22064, 3)"
      ]
     },
     "execution_count": 4,
     "metadata": {},
     "output_type": "execute_result"
    }
   ],
   "source": [
    "df.shape"
   ]
  },
  {
   "cell_type": "code",
   "execution_count": 37,
   "id": "6c7e9f0c",
   "metadata": {},
   "outputs": [
    {
     "data": {
      "text/html": [
       "<div>\n",
       "<style scoped>\n",
       "    .dataframe tbody tr th:only-of-type {\n",
       "        vertical-align: middle;\n",
       "    }\n",
       "\n",
       "    .dataframe tbody tr th {\n",
       "        vertical-align: top;\n",
       "    }\n",
       "\n",
       "    .dataframe thead th {\n",
       "        text-align: right;\n",
       "    }\n",
       "</style>\n",
       "<table border=\"1\" class=\"dataframe\">\n",
       "  <thead>\n",
       "    <tr style=\"text-align: right;\">\n",
       "      <th></th>\n",
       "      <th>from</th>\n",
       "      <th>to</th>\n",
       "      <th>rel</th>\n",
       "      <th>count</th>\n",
       "    </tr>\n",
       "  </thead>\n",
       "  <tbody>\n",
       "    <tr>\n",
       "      <th>0</th>\n",
       "      <td>673</td>\n",
       "      <td>4609</td>\n",
       "      <td>gene--&gt;gene</td>\n",
       "      <td>15</td>\n",
       "    </tr>\n",
       "    <tr>\n",
       "      <th>1</th>\n",
       "      <td>673</td>\n",
       "      <td>5711</td>\n",
       "      <td>gene--&gt;gene</td>\n",
       "      <td>3</td>\n",
       "    </tr>\n",
       "    <tr>\n",
       "      <th>2</th>\n",
       "      <td>673</td>\n",
       "      <td>5366</td>\n",
       "      <td>gene--&gt;gene</td>\n",
       "      <td>3</td>\n",
       "    </tr>\n",
       "    <tr>\n",
       "      <th>3</th>\n",
       "      <td>673</td>\n",
       "      <td>5594</td>\n",
       "      <td>gene--&gt;gene</td>\n",
       "      <td>28</td>\n",
       "    </tr>\n",
       "    <tr>\n",
       "      <th>4</th>\n",
       "      <td>673</td>\n",
       "      <td>5595</td>\n",
       "      <td>gene--&gt;gene</td>\n",
       "      <td>12</td>\n",
       "    </tr>\n",
       "    <tr>\n",
       "      <th>...</th>\n",
       "      <td>...</td>\n",
       "      <td>...</td>\n",
       "      <td>...</td>\n",
       "      <td>...</td>\n",
       "    </tr>\n",
       "    <tr>\n",
       "      <th>39313</th>\n",
       "      <td>104</td>\n",
       "      <td>105</td>\n",
       "      <td>gene--&gt;gene</td>\n",
       "      <td>3</td>\n",
       "    </tr>\n",
       "    <tr>\n",
       "      <th>39314</th>\n",
       "      <td>351</td>\n",
       "      <td>1351</td>\n",
       "      <td>gene--&gt;gene</td>\n",
       "      <td>3</td>\n",
       "    </tr>\n",
       "    <tr>\n",
       "      <th>39315</th>\n",
       "      <td>2185</td>\n",
       "      <td>2950</td>\n",
       "      <td>gene--&gt;gene</td>\n",
       "      <td>3</td>\n",
       "    </tr>\n",
       "    <tr>\n",
       "      <th>39316</th>\n",
       "      <td>5609</td>\n",
       "      <td>6898</td>\n",
       "      <td>gene--&gt;gene</td>\n",
       "      <td>3</td>\n",
       "    </tr>\n",
       "    <tr>\n",
       "      <th>39317</th>\n",
       "      <td>3990</td>\n",
       "      <td>7124</td>\n",
       "      <td>gene--&gt;gene</td>\n",
       "      <td>3</td>\n",
       "    </tr>\n",
       "  </tbody>\n",
       "</table>\n",
       "<p>39318 rows × 4 columns</p>\n",
       "</div>"
      ],
      "text/plain": [
       "       from    to          rel  count\n",
       "0       673  4609  gene-->gene     15\n",
       "1       673  5711  gene-->gene      3\n",
       "2       673  5366  gene-->gene      3\n",
       "3       673  5594  gene-->gene     28\n",
       "4       673  5595  gene-->gene     12\n",
       "...     ...   ...          ...    ...\n",
       "39313   104   105  gene-->gene      3\n",
       "39314   351  1351  gene-->gene      3\n",
       "39315  2185  2950  gene-->gene      3\n",
       "39316  5609  6898  gene-->gene      3\n",
       "39317  3990  7124  gene-->gene      3\n",
       "\n",
       "[39318 rows x 4 columns]"
      ]
     },
     "execution_count": 37,
     "metadata": {},
     "output_type": "execute_result"
    }
   ],
   "source": [
    "df"
   ]
  },
  {
   "cell_type": "code",
   "execution_count": 38,
   "id": "8e69cbb1",
   "metadata": {},
   "outputs": [
    {
     "name": "stdout",
     "output_type": "stream",
     "text": [
      "Number of unique genes: 2582\n"
     ]
    }
   ],
   "source": [
    "# Assuming your DataFrame is named 'df'\n",
    "unique_genes = set(df['from']).union(df['to'])\n",
    "\n",
    "num_unique_genes = len(unique_genes)\n",
    "print(\"Number of unique genes:\", num_unique_genes)"
   ]
  },
  {
   "cell_type": "code",
   "execution_count": null,
   "id": "b32952b6",
   "metadata": {},
   "outputs": [],
   "source": []
  },
  {
   "cell_type": "code",
   "execution_count": 35,
   "id": "07f1716c",
   "metadata": {},
   "outputs": [
    {
     "data": {
      "text/plain": [
       "count\n",
       "2      56818\n",
       "3      17254\n",
       "4       7579\n",
       "5       4084\n",
       "6       2587\n",
       "       ...  \n",
       "127        1\n",
       "133        1\n",
       "145        1\n",
       "67         1\n",
       "195        1\n",
       "Name: count, Length: 113, dtype: int64"
      ]
     },
     "execution_count": 35,
     "metadata": {},
     "output_type": "execute_result"
    }
   ],
   "source": [
    "count_frequency "
   ]
  },
  {
   "cell_type": "code",
   "execution_count": 36,
   "id": "7b1e278b",
   "metadata": {},
   "outputs": [
    {
     "data": {
      "image/png": "[encoded data removed]",
      "text/plain": [
       "<Figure size 432x288 with 1 Axes>"
      ]
     },
     "metadata": {
      "needs_background": "light"
     },
     "output_type": "display_data"
    }
   ],
   "source": [
    "\n",
    "\n",
    "# Calculate the frequency of each count value\n",
    "count_frequency = df['count'].value_counts()\n",
    "\n",
    "# Create a histogram for the count frequencies\n",
    "plt.bar(count_frequency.index, count_frequency.values, color='blue')\n",
    "\n",
    "# Add labels and title\n",
    "plt.xlabel('Count')\n",
    "plt.ylabel('Frequency')\n",
    "plt.title('Histogram of Count Frequencies')\n",
    "\n",
    "# Display the histogram\n",
    "plt.show()"
   ]
  },
  {
   "cell_type": "code",
   "execution_count": null,
   "id": "f7153ccd",
   "metadata": {
    "scrolled": true
   },
   "outputs": [],
   "source": []
  },
  {
   "cell_type": "code",
   "execution_count": null,
   "id": "1dc78470",
   "metadata": {},
   "outputs": [],
   "source": []
  },
  {
   "cell_type": "code",
   "execution_count": null,
   "id": "b5177b05",
   "metadata": {},
   "outputs": [],
   "source": [
    "df"
   ]
  },
  {
   "cell_type": "code",
   "execution_count": 39,
   "id": "e54bf7e6",
   "metadata": {},
   "outputs": [
    {
     "name": "stderr",
     "output_type": "stream",
     "text": [
      "/home/angelosmath/.local/lib/python3.10/site-packages/torchkge/utils/data_redundancy.py:11: TqdmExperimentalWarning: Using `tqdm.autonotebook.tqdm` in notebook mode. Use `tqdm.tqdm` instead to force console mode (e.g. in jupyter console)\n",
      "  from tqdm.autonotebook import tqdm\n"
     ]
    }
   ],
   "source": [
    "from torchkge.data_structures import KnowledgeGraph\n",
    "\n",
    "df_triples = df.drop(columns=['count'])\n",
    "\n",
    "torchKG = KnowledgeGraph(df=df_triples)\n",
    "\n"
   ]
  },
  {
   "cell_type": "code",
   "execution_count": 40,
   "id": "7830df8f",
   "metadata": {},
   "outputs": [
    {
     "data": {
      "text/plain": [
       "<torchkge.data_structures.KnowledgeGraph at 0x7f6c46f4aec0>"
      ]
     },
     "execution_count": 40,
     "metadata": {},
     "output_type": "execute_result"
    }
   ],
   "source": [
    "torchKG"
   ]
  },
  {
   "cell_type": "code",
   "execution_count": null,
   "id": "26a7c62a",
   "metadata": {},
   "outputs": [],
   "source": [
    "entrez_ids = list(torchKG.ent2ix.keys())\n",
    "\n",
    "df_entrez_ids = pd.DataFrame(entrez_ids, columns=['entrez_id'])\n",
    "\n",
    "in_df = df_entrez_ids.isin(df_protein_coding_entrez_ids['entrez_id'])\n",
    "\n",
    "print(any(in_df))"
   ]
  },
  {
   "cell_type": "code",
   "execution_count": null,
   "id": "eb8da03c",
   "metadata": {
    "scrolled": true
   },
   "outputs": [],
   "source": [
    "df_protein_coding = pd.read_csv('protein-coding_gene.txt', delimiter='\\t', header=0)"
   ]
  },
  {
   "cell_type": "code",
   "execution_count": null,
   "id": "0edf14e3",
   "metadata": {},
   "outputs": [],
   "source": [
    "df_protein_coding['entrez_id'][0]"
   ]
  },
  {
   "cell_type": "code",
   "execution_count": null,
   "id": "b1c53091",
   "metadata": {},
   "outputs": [],
   "source": [
    "df_protein_coding"
   ]
  },
  {
   "cell_type": "code",
   "execution_count": null,
   "id": "0fbad5ff",
   "metadata": {},
   "outputs": [],
   "source": []
  },
  {
   "cell_type": "code",
   "execution_count": null,
   "id": "a9323628",
   "metadata": {},
   "outputs": [],
   "source": [
    "df = pd.read_json('/home/angelosmath/MSc/thesis_genes/bioc_august/test_df_200.json')\n",
    "\n",
    "\n",
    "# Count rows with only one element in the 'Genes' set\n",
    "mask_single_gene = df['Genes'].apply(lambda x: len(x) == 1)\n",
    "\n",
    "df_filtered = df[~mask_single_gene]\n",
    "\n",
    "print(\"found {} papers that refer more than one genes\".format(df_filtered.shape[0]))"
   ]
  },
  {
   "cell_type": "code",
   "execution_count": null,
   "id": "91fec2cc",
   "metadata": {},
   "outputs": [],
   "source": []
  },
  {
   "cell_type": "code",
   "execution_count": null,
   "id": "8b7be79f",
   "metadata": {},
   "outputs": [],
   "source": []
  },
  {
   "cell_type": "code",
   "execution_count": null,
   "id": "2294fd4d",
   "metadata": {},
   "outputs": [],
   "source": [
    "        \n",
    "    def visualize_graph(self):\n",
    "        G = self.construct_graph()\n",
    "\n",
    "        # Manually specify node positions for better layout\n",
    "        pos = nx.spring_layout(G, seed=42)\n",
    "\n",
    "        # Adjust node separation\n",
    "        pos = {node: (x, y + 0.1) for node, (x, y) in pos.items()}\n",
    "\n",
    "        labels = {node: node for node in G.nodes}\n",
    "\n",
    "        # Draw the graph using NetworkX and Matplotlib\n",
    "        plt.figure(figsize=(12, 10))\n",
    "        nx.draw_networkx_nodes(G, pos, node_size=1000, node_color='skyblue', label=True)\n",
    "        nx.draw_networkx_labels(G, pos, labels, font_size=10, font_color='black')\n",
    "        nx.draw_networkx_edges(G, pos, width=0.5, edge_color='gray')\n",
    "\n",
    "        plt.title(\"Gene Interaction Graph\")\n",
    "        plt.legend()\n",
    "        plt.show()\n",
    "\n",
    "    def construct_graph(self):\n",
    "        \n",
    "        G = nx.Graph()\n",
    "\n",
    "        for pair, count in self.pair_counts.items():\n",
    "            gene1, gene2 = pair\n",
    "            G.add_edge(gene1, gene2, weight=count)\n",
    "\n",
    "        return G"
   ]
  },
  {
   "cell_type": "code",
   "execution_count": null,
   "id": "6ce34221",
   "metadata": {},
   "outputs": [],
   "source": []
  },
  {
   "cell_type": "code",
   "execution_count": null,
   "id": "020e6453",
   "metadata": {},
   "outputs": [],
   "source": []
  },
  {
   "cell_type": "code",
   "execution_count": null,
   "id": "299a6643",
   "metadata": {},
   "outputs": [],
   "source": [
    "    def visualize_graph(self, visual_path=None):\n",
    "        \n",
    "        if visual_path == False:\n",
    "            return None \n",
    "    \n",
    "        self.graph = self.get_edges()\n",
    "\n",
    "        # Create a mapping of unique colors for nodes and relations\n",
    "        node_colors = plt.cm.tab20.colors\n",
    "        relation_colors = plt.cm.Set1.colors\n",
    "\n",
    "        node_color_map = {}  \n",
    "        relation_color_map = {}\n",
    "\n",
    "        for i, node in enumerate(graph.nodes()):\n",
    "            node_color_map[node] = node_colors[i % len(node_colors)]\n",
    "\n",
    "        for i, edge_data in enumerate(graph.edges(data=True)):\n",
    "            relation = edge_data[2]['relation']\n",
    "            if relation not in relation_color_map:\n",
    "                relation_color_map[relation] = relation_colors[i % len(relation_colors)]\n",
    "\n",
    "        # Visualize the graph\n",
    "        pos = nx.spring_layout(graph)  # You can choose a different layout if needed\n",
    "        plt.figure(figsize=(12, 8))\n",
    "\n",
    "        # Draw nodes with their respective colors\n",
    "        for node, color in node_color_map.items():\n",
    "            nx.draw_networkx_nodes(graph, pos, nodelist=[node], node_color=color, node_size=200, label=node)\n",
    "\n",
    "        # Draw edges with their respective colors\n",
    "        for relation, color in relation_color_map.items():\n",
    "            edge_list = [(u, v) for u, v, data in graph.edges(data=True) if data['relation'] == relation]\n",
    "            nx.draw_networkx_edges(graph, pos, edgelist=edge_list, edge_color=color, width=1.5, label=relation)\n",
    "\n",
    "        # Draw node labels (optional)\n",
    "        #labels = {node: node for node in graph.nodes()}\n",
    "        #nx.draw_networkx_labels(graph, pos, labels, font_size=8)\n",
    "\n",
    "        plt.legend()\n",
    "        plt.title(\"Graph Visualization\")\n",
    "        plt.axis(\"off\")\n",
    "        plt.savefig(f'{self.output_path}/graph_visualization.pdf', format=\"pdf\")\n",
    "        plt.close()"
   ]
  },
  {
   "cell_type": "markdown",
   "id": "22539506",
   "metadata": {},
   "source": [
    "Sorting the pairs before storing them in the dictionary helps ensure consistency and prevents duplication of counts for pairs with the same elements but in a different order.\n",
    "\n",
    "Consider the following example:\n",
    "\n",
    "Suppose you have two rows with the following 'genes' lists:\n",
    "\n",
    "    Row 1: ['gene1', 'gene2']\n",
    "    Row 2: ['gene2', 'gene1']\n",
    "\n",
    "Without sorting, these two lists would generate two different pairs:\n",
    "\n",
    "    Pair 1: ('gene1', 'gene2')\n",
    "    Pair 2: ('gene2', 'gene1')\n",
    "\n",
    "However, these pairs actually represent the same relationship between 'gene1' and 'gene2'. By sorting the elements within the pairs, you can ensure that they are consistent and represent the same relationship regardless of their original order. So, both lists will generate the same pair:\n",
    "\n",
    "    Pair: ('gene1', 'gene2')\n",
    "\n",
    "By doing this, when counting pairs, you don't double-count the same relationship just because the order of genes in the pair is different. Sorting ensures that pairs with the same elements will be stored consistently and avoid any confusion in the counting process."
   ]
  }
 ],
 "metadata": {
  "kernelspec": {
   "display_name": "Python 3 (ipykernel)",
   "language": "python",
   "name": "python3"
  },
  "language_info": {
   "codemirror_mode": {
    "name": "ipython",
    "version": 3
   },
   "file_extension": ".py",
   "mimetype": "text/x-python",
   "name": "python",
   "nbconvert_exporter": "python",
   "pygments_lexer": "ipython3",
   "version": "3.10.7"
  }
 },
 "nbformat": 4,
 "nbformat_minor": 5
}
